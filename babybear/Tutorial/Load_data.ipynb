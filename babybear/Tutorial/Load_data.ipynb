{
 "cells": [
  {
   "cell_type": "markdown",
   "id": "b9f53f5f",
   "metadata": {},
   "source": [
    "## Data acquisition"
   ]
  },
  {
   "cell_type": "markdown",
   "id": "f91401fd",
   "metadata": {},
   "source": [
    "In thiss notebook you can get the data from hugging face and save it as pkl files."
   ]
  },
  {
   "cell_type": "code",
   "execution_count": null,
   "id": "bf5ee5f4",
   "metadata": {},
   "outputs": [],
   "source": [
    "import sys\n",
    "sys.path.append('../src/')\n",
    "import util_funcs as uf"
   ]
  },
  {
   "cell_type": "markdown",
   "id": "77f36af4",
   "metadata": {},
   "source": [
    "Please specify device as -1 or 1. -1 is when you run the code on CPU, 1 if you use GPU."
   ]
  },
  {
   "cell_type": "markdown",
   "id": "8a2e65d1",
   "metadata": {},
   "source": [
    "#### Data for conll2003"
   ]
  },
  {
   "cell_type": "code",
   "execution_count": null,
   "id": "db97682d",
   "metadata": {},
   "outputs": [],
   "source": [
    "dataset = 'conll2003'\n",
    "model_name = \"dslim/bert-base-NER\"\n",
    "train, dev, test = uf.load_data(dataset)\n",
    "\n",
    "text_train , y_train, dict_ner_train = uf.find_ner_x_y(train, model_name)\n",
    "uf.save_pkl('../data/conll2003/train_conll.pkl', text_train, y_train, dict_ner_train)\n",
    "\n",
    "text_test , y_test, dict_ner_test = uf.find_ner_x_y(dev, model_name)\n",
    "uf.save_pkl('../data/conll2003/test_conll.pkl', text_test, y_test, dict_ner_test)"
   ]
  },
  {
   "cell_type": "markdown",
   "id": "2cf832b2",
   "metadata": {},
   "source": [
    "#### Data for ncbi_disease"
   ]
  },
  {
   "cell_type": "code",
   "execution_count": null,
   "id": "c3d821b2",
   "metadata": {},
   "outputs": [],
   "source": [
    "dataset = 'ncbi_disease'\n",
    "model_name = \"fidukm34/biobert_v1.1_pubmed-finetuned-ner-finetuned-ner\"\n",
    "train, dev, test = uf.load_data(dataset)\n",
    "\n",
    "text_train , y_train, dict_ner_train = uf.find_ner_x_y(train, model_name)\n",
    "uf.save_pkl('../data/ncbi_disease/train_ncbi.pkl', text_train, y_train, dict_ner_train)\n",
    "\n",
    "text_test , y_test, dict_ner_test = uf.find_ner_x_y(test, model_name)\n",
    "uf.save_pkl('../data/ncbi_disease/test_ncbi.pkl', text_test, y_test, dict_ner_test)"
   ]
  },
  {
   "cell_type": "markdown",
   "id": "a8e3824d",
   "metadata": {},
   "source": [
    "#### Data for emotion"
   ]
  },
  {
   "cell_type": "code",
   "execution_count": null,
   "id": "fb0b3262",
   "metadata": {},
   "outputs": [],
   "source": [
    "dataset = 'emotion'\n",
    "train, dev, test = uf.load_data(dataset)\n",
    "\n",
    "text_train , y_train = uf.find_x_y_emotion(train)\n",
    "uf.save_pkl('../data/emotion/train_emotion.pkl', text_train, y_train)\n",
    "\n",
    "text_test , y_test = uf.find_x_y_emotion(test)\n",
    "uf.save_pkl('../data/emotion/test_emotion.pkl', text_test, y_test)"
   ]
  },
  {
   "cell_type": "code",
   "execution_count": null,
   "id": "9dfce6a1",
   "metadata": {},
   "outputs": [],
   "source": []
  }
 ],
 "metadata": {
  "kernelspec": {
   "display_name": "Python 3 (ipykernel)",
   "language": "python",
   "name": "python3"
  },
  "language_info": {
   "codemirror_mode": {
    "name": "ipython",
    "version": 3
   },
   "file_extension": ".py",
   "mimetype": "text/x-python",
   "name": "python",
   "nbconvert_exporter": "python",
   "pygments_lexer": "ipython3",
   "version": "3.9.7"
  }
 },
 "nbformat": 4,
 "nbformat_minor": 5
}
