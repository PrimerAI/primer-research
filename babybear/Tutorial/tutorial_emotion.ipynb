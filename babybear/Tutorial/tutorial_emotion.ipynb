{
 "cells": [
  {
   "cell_type": "markdown",
   "id": "da9ed4a4",
   "metadata": {},
   "source": [
    "This notebook is a quick tutorial on how to use inference triage model on emotion dataset. \n",
    "This notebook is based on the code `python run_code/load_emotion.py` for generating training and test dataset followed by `python run_code/emotion.py` for running BabyBear algorithm. Please refer to the code available in `run_code/` for other datasets.\n",
    "\n",
    "All the dataset in this study is taken from huggingface, except `sentiment analysis`. You can find the dataset for this classifier at `data/sentiment/raw_data/`."
   ]
  },
  {
   "cell_type": "markdown",
   "id": "413f365d",
   "metadata": {},
   "source": [
    "## Emotion dataset"
   ]
  },
  {
   "cell_type": "markdown",
   "id": "76ca39c1",
   "metadata": {},
   "source": [
    "This notebook is to generate the results on [emotion dataset](https://huggingface.co/datasets/emotion) taken from hugging face. The model in this work is [bhadresh-savani/bert-base-uncased-emotion](https://huggingface.co/bhadresh-savani/bert-base-uncased-emotion)."
   ]
  },
  {
   "cell_type": "markdown",
   "id": "b004dd67",
   "metadata": {},
   "source": [
    "#### Import packages"
   ]
  },
  {
   "cell_type": "code",
   "execution_count": null,
   "id": "6f9e3185",
   "metadata": {},
   "outputs": [],
   "source": [
    "\n",
    "import sys\n",
    "sys.path.append('../src/')\n",
    "import util_funcs as uf\n",
    "import matplotlib.pyplot as plt\n",
    "import numpy as np\n",
    "import tensorflow_hub as hub\n",
    "from nlx_babybear import RFBabyBear\n",
    "from inference_triage import MamabearClassifierEmotion, TriagedClassifier\n",
    "import pickle as pkl\n",
    "import decimal\n",
    "import matplotlib.pyplot as plt\n",
    "from matplotlib.pyplot import figure\n",
    "\n",
    "dataset = 'emotion' # Name of dataset\n",
    "device = -1  # by default device=0, which will run it on cuda. Please define it as -1 if you want to run it on cpu."
   ]
  },
  {
   "cell_type": "markdown",
   "id": "4a82e781",
   "metadata": {},
   "source": [
    "#### Loading the data"
   ]
  },
  {
   "cell_type": "code",
   "execution_count": null,
   "id": "350f8311",
   "metadata": {},
   "outputs": [],
   "source": [
    "train, dev, test = uf.load_data(dataset)\n",
    "\n",
    "text_train , y_train = uf.find_x_y_emotion(train, device=device)\n",
    "# uf.save_pkl('../data/emotion/train_emotion.pkl', text_train, y_train)  # save the train dataset\n",
    "\n",
    "text_test , y_test = uf.find_x_y_emotion(test, device=device)\n",
    "# uf.save_pkl('../data/emotion/test_emotion.pkl', text_test, y_test)  # save the test dataset"
   ]
  },
  {
   "cell_type": "markdown",
   "id": "3cae2194",
   "metadata": {},
   "source": [
    "There are 6 classes in this dataset (0:\"sadness\", 1:'joy', 2:'love', 3:'anger', 4:'fear', 5:'surprise'). The distribution of these classes in the training dataset is shown in the following figure."
   ]
  },
  {
   "cell_type": "code",
   "execution_count": null,
   "id": "a747748e",
   "metadata": {},
   "outputs": [],
   "source": [
    "\n",
    "plt.hist(y_train)\n",
    "plt.xlabel('Class ID')\n",
    "plt.ylabel('Frequency')\n",
    "plt.title('Class distribution on training dataset')"
   ]
  },
  {
   "cell_type": "markdown",
   "id": "88411140",
   "metadata": {},
   "source": [
    "#### Input file:\n",
    "\n",
    "`model`: The model used as [mamabear model]((https://huggingface.co/bhadresh-savani/bert-base-uncased-emotion))\n",
    "\n",
    "`confidence_th_options`: The values for confidence threshold\n",
    "\n",
    "`metric`: The metric to find the performance. It can be one of the \"accuracy\", \"recall\", \"f1_score\" and \"precision\".\n",
    "\n",
    "`metric_threshold`: The minimum value of performance we are expecting for the final model to have."
   ]
  },
  {
   "cell_type": "code",
   "execution_count": null,
   "id": "b406c86e",
   "metadata": {},
   "outputs": [],
   "source": [
    "model='bhadresh-savani/bert-base-uncased-emotion'\n",
    "metric = \"accuracy\"\n",
    "metric_threshold = .9\n",
    "confidence_th_options = np.arange(0,1.005,.005)"
   ]
  },
  {
   "cell_type": "markdown",
   "id": "4b5171dc",
   "metadata": {},
   "source": [
    "#### Instantiate babybear and mamabear models"
   ]
  },
  {
   "cell_type": "code",
   "execution_count": null,
   "id": "76f61d61",
   "metadata": {},
   "outputs": [],
   "source": [
    "language_model = hub.load(\"https://tfhub.dev/google/universal-sentence-encoder/4\")\n",
    "\n",
    "mamabear = MamabearClassifierEmotion(model, device=device)\n",
    "babybear = RFBabyBear(language_model)\n",
    "\n",
    "inf_traige = TriagedClassifier(\"classification\", babybear, mamabear, metric_threshold, \"accuracy\", confidence_th_options)"
   ]
  },
  {
   "cell_type": "markdown",
   "id": "7c98ecc5",
   "metadata": {},
   "source": [
    "#### hyper-parameter tuning\n",
    "\n",
    "Here we will train inference triage to find the confidence threshold.\n"
   ]
  },
  {
   "cell_type": "code",
   "execution_count": null,
   "id": "432814bf",
   "metadata": {},
   "outputs": [],
   "source": [
    "inf_traige.train(text_train , y_train)\n",
    "\n",
    "print(f\"Confidence threshold is: {inf_traige.confidence_th}\")\n",
    "\n",
    "print(f\"The following plots are the saving vs Threshold for different CV fold\")\n",
    "\n"
   ]
  },
  {
   "cell_type": "markdown",
   "id": "cfb7e731",
   "metadata": {},
   "source": [
    "#### Applying inference triage on the test dataset\n",
    "All the results are also saved in `../output/emotion.resullts`"
   ]
  },
  {
   "cell_type": "code",
   "execution_count": null,
   "id": "acfcf816",
   "metadata": {},
   "outputs": [],
   "source": [
    "inf_triage_predictions = inf_traige.score(text_test , y_test)"
   ]
  },
  {
   "cell_type": "code",
   "execution_count": null,
   "id": "4cb971b6",
   "metadata": {},
   "outputs": [],
   "source": [
    "\n",
    "dump_data = {}\n",
    "dump_data['result'] = inf_triage_predictions\n",
    "dump_data['confidence_th'] = inf_traige.confidence_th\n",
    "dump_data['indx_conf_th'] = inf_traige.indx_conf_th\n",
    "dump_data['metric'] = inf_traige.metric\n",
    "dump_data['metric_threshold'] = inf_traige.metric_threshold\n",
    "dump_data['performance'] = inf_traige.performance\n",
    "dump_data['saving'] = inf_traige.saving\n",
    "dump_data['tot_time'] = inf_traige.tot_time\n",
    "# with open('../output/emotion.resullts', 'wb') as outp:  # saves the output\n",
    "#         pkl.dump(dump_data, outp, pkl.HIGHEST_PROTOCOL)"
   ]
  },
  {
   "cell_type": "markdown",
   "id": "b767f8b0",
   "metadata": {},
   "source": [
    "Plot saving and performance as a function of thresholds"
   ]
  },
  {
   "cell_type": "code",
   "execution_count": null,
   "id": "948e266c",
   "metadata": {},
   "outputs": [],
   "source": [
    "plt.rcParams.update({'font.size': 10})\n",
    "fig, ax1 = plt.subplots()\n",
    "# figure(figsize=(7,7))\n",
    "y = np.arange(-10, 120, 10)\n",
    "x = len(y)*[confidence_th_options[dump_data['indx_conf_th']]]\n",
    "plt.plot(confidence_th_options, dump_data['saving'], 'k')\n",
    "\n",
    "plt.plot(confidence_th_options, np.asarray(dump_data['performance'])*100, '--r', alpha=.7)\n",
    "plt.plot(x, y, '--',color='k', linewidth=.5)\n",
    "plt.legend(['Saving', \"Accuracy\"], loc=3)\n",
    "plt.xlabel('Threshold')\n",
    "plt.ylabel('Metric')\n",
    "plt.ylim([0,102])\n",
    "plt.xlim([0, 1])\n"
   ]
  },
  {
   "cell_type": "markdown",
   "id": "edb75867",
   "metadata": {},
   "source": [
    "#### Plot cpu/gpu run time!"
   ]
  },
  {
   "cell_type": "code",
   "execution_count": null,
   "id": "f04488da",
   "metadata": {},
   "outputs": [],
   "source": [
    "\n",
    "    \n",
    "plt.scatter(dump_data['tot_time'], np.asarray(dump_data['performance'])*100, color='r', label='GPU run time')\n",
    "plt.xlabel('Time (sec)')\n",
    "plt.ylabel(str(dump_data['metric']))\n",
    "\n",
    "y = np.arange(0, 105, .1)\n",
    "x = y * 0 + dump_data['tot_time'][dump_data['indx_conf_th']]\n",
    "plt.plot(x, y, '--', label='accuracy at confidence threshold =' + str(str(dump_data['performance'][dump_data['indx_conf_th']]*100)) + '%')\n",
    "plt.ylim([min(dump_data['performance'])*100-5, 105])\n",
    "\n",
    "x = np.arange(-.5, max(dump_data['tot_time'])+.5, .1)\n",
    "y = x * 0 + dump_data['performance'][dump_data['indx_conf_th']]*100\n",
    "plt.plot(x, y, '--', label='Time at confidence_th')\n",
    "plt.xlim([-.1, max(dump_data['tot_time'])+.5])\n",
    "plt.legend(loc=0)"
   ]
  }
 ],
 "metadata": {
  "kernelspec": {
   "display_name": "Python 3 (ipykernel)",
   "language": "python",
   "name": "python3"
  },
  "language_info": {
   "codemirror_mode": {
    "name": "ipython",
    "version": 3
   },
   "file_extension": ".py",
   "mimetype": "text/x-python",
   "name": "python",
   "nbconvert_exporter": "python",
   "pygments_lexer": "ipython3",
   "version": "3.9.13"
  }
 },
 "nbformat": 4,
 "nbformat_minor": 5
}
