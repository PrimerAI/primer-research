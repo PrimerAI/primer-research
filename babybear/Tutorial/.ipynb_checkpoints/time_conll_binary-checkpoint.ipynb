{
 "cells": [
  {
   "cell_type": "markdown",
   "id": "9dc0b73a",
   "metadata": {},
   "source": [
    "## Conll2003 dataset"
   ]
  },
  {
   "cell_type": "markdown",
   "id": "39c6da0d",
   "metadata": {},
   "source": [
    "This notebook is to generate the results on [conll2003 dataset](https://huggingface.co/datasets/conll2003) taken from hugging face. The model in this work is [dslim/bert-base-NER](https://huggingface.co/dslim/bert-base-NER)."
   ]
  },
  {
   "cell_type": "markdown",
   "id": "3f903f0b",
   "metadata": {},
   "source": [
    "#### Import packages\n"
   ]
  },
  {
   "cell_type": "code",
   "execution_count": 1,
   "id": "6f9e3185",
   "metadata": {},
   "outputs": [],
   "source": [
    "import sys\n",
    "sys.path.append('../src/')\n",
    "\n",
    "import numpy as np\n",
    "import pickle5 as pkl\n",
    "import tensorflow_hub as hub\n",
    "import util_funcs as uf\n",
    "from nlx_babybear import RFBabyBear\n",
    "from inference_triage import PapabearClassifier, TriagedClassifier\n",
    "\n",
    "from transformers import AutoTokenizer, AutoModelForTokenClassification\n",
    "\n",
    "from nltk.tokenize.treebank import TreebankWordDetokenizer\n",
    "from sklearn.model_selection import KFold\n",
    "import matplotlib.pyplot as plt\n"
   ]
  },
  {
   "cell_type": "markdown",
   "id": "2683982b",
   "metadata": {},
   "source": [
    "#### Loading the data"
   ]
  },
  {
   "cell_type": "code",
   "execution_count": 2,
   "id": "350f8311",
   "metadata": {},
   "outputs": [],
   "source": [
    "# filename = '../data/conll2003/train_conll.pkl'\n",
    "# texts_train, y_train, ner_train = uf.open_pkl(filename)\n",
    "# doc, labels = np.asarray(texts_train), np.asarray(y_train)\n",
    "\n",
    "filename = '../data/conll2003/test_conll.pkl'\n",
    "texts_test, y_test, ner_test = uf.open_pkl(filename)\n",
    "texts_test, y_test = np.asarray(texts_test), np.asarray(y_test)\n"
   ]
  },
  {
   "cell_type": "markdown",
   "id": "3cae2194",
   "metadata": {},
   "source": [
    "There are 2 classes in this dataset, 0 and 1. 0 shows the sentences without any entities and 1 shows the sentences with entities in it.  The distribution of these classes in the training dataset is shown in the following figure."
   ]
  },
  {
   "cell_type": "code",
   "execution_count": 3,
   "id": "a747748e",
   "metadata": {},
   "outputs": [
    {
     "ename": "NameError",
     "evalue": "name 'labels' is not defined",
     "output_type": "error",
     "traceback": [
      "\u001b[0;31m---------------------------------------------------------------------------\u001b[0m",
      "\u001b[0;31mNameError\u001b[0m                                 Traceback (most recent call last)",
      "\u001b[0;32m/var/folders/rr/74y_k_zn3hn0bjf6tq3vn7840000gp/T/ipykernel_54590/777483817.py\u001b[0m in \u001b[0;36m<module>\u001b[0;34m\u001b[0m\n\u001b[0;32m----> 1\u001b[0;31m \u001b[0mlabel_0\u001b[0m \u001b[0;34m=\u001b[0m \u001b[0mnp\u001b[0m\u001b[0;34m.\u001b[0m\u001b[0mwhere\u001b[0m\u001b[0;34m(\u001b[0m\u001b[0mlabels\u001b[0m \u001b[0;34m==\u001b[0m \u001b[0;36m0\u001b[0m\u001b[0;34m)\u001b[0m\u001b[0;34m[\u001b[0m\u001b[0;36m0\u001b[0m\u001b[0;34m]\u001b[0m\u001b[0;34m\u001b[0m\u001b[0;34m\u001b[0m\u001b[0m\n\u001b[0m\u001b[1;32m      2\u001b[0m \u001b[0mlabel_1\u001b[0m \u001b[0;34m=\u001b[0m \u001b[0mnp\u001b[0m\u001b[0;34m.\u001b[0m\u001b[0mwhere\u001b[0m\u001b[0;34m(\u001b[0m\u001b[0mlabels\u001b[0m \u001b[0;34m==\u001b[0m \u001b[0;36m1\u001b[0m\u001b[0;34m)\u001b[0m\u001b[0;34m[\u001b[0m\u001b[0;36m0\u001b[0m\u001b[0;34m]\u001b[0m\u001b[0;34m\u001b[0m\u001b[0;34m\u001b[0m\u001b[0m\n\u001b[1;32m      3\u001b[0m \u001b[0mfig\u001b[0m \u001b[0;34m=\u001b[0m \u001b[0mplt\u001b[0m\u001b[0;34m.\u001b[0m\u001b[0mfigure\u001b[0m\u001b[0;34m(\u001b[0m\u001b[0;34m)\u001b[0m\u001b[0;34m\u001b[0m\u001b[0;34m\u001b[0m\u001b[0m\n\u001b[1;32m      4\u001b[0m \u001b[0max\u001b[0m \u001b[0;34m=\u001b[0m \u001b[0mfig\u001b[0m\u001b[0;34m.\u001b[0m\u001b[0madd_axes\u001b[0m\u001b[0;34m(\u001b[0m\u001b[0;34m[\u001b[0m\u001b[0;36m0\u001b[0m\u001b[0;34m,\u001b[0m\u001b[0;36m0\u001b[0m\u001b[0;34m,\u001b[0m\u001b[0;36m1\u001b[0m\u001b[0;34m,\u001b[0m\u001b[0;36m1\u001b[0m\u001b[0;34m]\u001b[0m\u001b[0;34m)\u001b[0m\u001b[0;34m\u001b[0m\u001b[0;34m\u001b[0m\u001b[0m\n\u001b[1;32m      5\u001b[0m \u001b[0mlangs\u001b[0m \u001b[0;34m=\u001b[0m \u001b[0;34m[\u001b[0m\u001b[0;34m'Sentences with NO entity'\u001b[0m\u001b[0;34m,\u001b[0m \u001b[0;34m'Sentences WITH entity'\u001b[0m\u001b[0;34m]\u001b[0m\u001b[0;34m\u001b[0m\u001b[0;34m\u001b[0m\u001b[0m\n",
      "\u001b[0;31mNameError\u001b[0m: name 'labels' is not defined"
     ]
    }
   ],
   "source": [
    "label_0 = np.where(labels == 0)[0]\n",
    "label_1 = np.where(labels == 1)[0]\n",
    "fig = plt.figure()\n",
    "ax = fig.add_axes([0,0,1,1])\n",
    "langs = ['Sentences with NO entity', 'Sentences WITH entity']\n",
    "students = [len(label_0),len(label_1)]\n",
    "ax.bar(langs,students)\n",
    "plt.ylabel('# of sentences in all dataset')\n",
    "plt.show()\n",
    "\n"
   ]
  },
  {
   "cell_type": "markdown",
   "id": "3b9982a3",
   "metadata": {},
   "source": [
    "A histogram of number of tokens in each document on test dataset!"
   ]
  },
  {
   "cell_type": "code",
   "execution_count": 52,
   "id": "a6e1ed33",
   "metadata": {},
   "outputs": [
    {
     "data": {
      "text/plain": [
       "3454"
      ]
     },
     "execution_count": 52,
     "metadata": {},
     "output_type": "execute_result"
    }
   ],
   "source": [
    "len(ner_test)"
   ]
  },
  {
   "cell_type": "code",
   "execution_count": 3,
   "id": "2e9ecd6a",
   "metadata": {},
   "outputs": [
    {
     "data": {
      "text/plain": [
       "([<matplotlib.axis.YTick at 0x17d5d9cd0>,\n",
       "  <matplotlib.axis.YTick at 0x17d5d9550>,\n",
       "  <matplotlib.axis.YTick at 0x17d478550>,\n",
       "  <matplotlib.axis.YTick at 0x17dc42220>,\n",
       "  <matplotlib.axis.YTick at 0x17dc426a0>],\n",
       " [Text(0, 0, ''),\n",
       "  Text(0, 0, ''),\n",
       "  Text(0, 0, ''),\n",
       "  Text(0, 0, ''),\n",
       "  Text(0, 0, '')])"
      ]
     },
     "execution_count": 3,
     "metadata": {},
     "output_type": "execute_result"
    },
    {
     "data": {
      "image/png": "[encoded data removed]",
      "text/plain": [
       "<Figure size 432x288 with 1 Axes>"
      ]
     },
     "metadata": {
      "needs_background": "light"
     },
     "output_type": "display_data"
    }
   ],
   "source": [
    "length = []\n",
    "for i in range(len(ner_test)):\n",
    "    length.append(len(ner_test[i]))\n",
    "\n",
    "plt.hist(length, bins=max(length), density=True)\n",
    "plt.xlabel('Number of entities in sentence level')\n",
    "plt.ylabel('Frequency')\n",
    "plt.yticks([0, .05, .1, .15, .2])"
   ]
  },
  {
   "cell_type": "code",
   "execution_count": 55,
   "id": "6b9ca510",
   "metadata": {},
   "outputs": [
    {
     "data": {
      "image/png": "[encoded data removed]",
      "text/plain": [
       "<Figure size 432x288 with 1 Axes>"
      ]
     },
     "metadata": {},
     "output_type": "display_data"
    }
   ],
   "source": [
    "import seaborn as sns\n",
    "from scipy.stats import norm\n",
    "sns.set_style(\"darkgrid\")\n",
    "sns_pp = sns.distplot(a=length, axlabel=\"Number of entities in sentence level\",kde=False, norm_hist=True, color=\"k\",bins=50)\n",
    "fig = sns_pp.get_figure()\n",
    "fig.savefig(\"/Users/leilakhalili/Desktop/paper_fig/new/conll_dist.png\",dpi=1200) "
   ]
  },
  {
   "cell_type": "code",
   "execution_count": null,
   "id": "c76e21c8",
   "metadata": {},
   "outputs": [],
   "source": []
  },
  {
   "cell_type": "code",
   "execution_count": 7,
   "id": "37320017",
   "metadata": {},
   "outputs": [
    {
     "data": {
      "text/plain": [
       "<AxesSubplot:xlabel='flipper_length_mm', ylabel='Count'>"
      ]
     },
     "execution_count": 7,
     "metadata": {},
     "output_type": "execute_result"
    },
    {
     "data": {
      "image/png": "[encoded data removed]",
      "text/plain": [
       "<Figure size 432x288 with 1 Axes>"
      ]
     },
     "metadata": {
      "needs_background": "light"
     },
     "output_type": "display_data"
    }
   ],
   "source": [
    "penguins = sns.load_dataset(\"penguins\")\n",
    "sns.histplot(data=penguins, x=\"flipper_length_mm\")"
   ]
  },
  {
   "cell_type": "markdown",
   "id": "55b8f5c4",
   "metadata": {},
   "source": [
    "#### Input file:\n",
    "\n",
    "`model`: The model used as [papabear model]((https://huggingface.co/dslim/bert-base-NER))\n",
    "\n",
    "`confidence_th_options`: The values for confidence threshold\n",
    "\n",
    "`metric`: The metric to find the performance. It can be one of the \"accuracy\", \"recall\", \"f1_score\" and \"precision\".\n",
    "\n",
    "`metric_threshold`: The minimum value of performance we are expecting for the final model to have."
   ]
  },
  {
   "cell_type": "code",
   "execution_count": 32,
   "id": "bcdf2095",
   "metadata": {},
   "outputs": [],
   "source": [
    "class RFBabyBear():\n",
    "    \"\"\"This class defines the babybear classifier which is sklearn.RandomForestClassifier.\n",
    "\n",
    "    Attributes:\n",
    "        language_model: The method to convert the document into a vector.\n",
    "        The default method is SIF\n",
    "        kwargs: Optional keyword arguments for the RandomForestClassifier.\n",
    "    \"\"\"\n",
    "\n",
    "    def __init__(self, language_model=None, **rf_kwargs):\n",
    "        \"\"\"Inits SampleClass with language_model and keyword arguments.\"\"\"\n",
    "        super().__init__()\n",
    "        self.rf_kwargs = rf_kwargs\n",
    "        # self.language_model = language_model or SIF(\"latest-small\")\n",
    "        self.language_model = language_model \n",
    "        self.model = RandomForestClassifier(**self.rf_kwargs)\n",
    "\n",
    "    def train(self, doc, labels, n_class=2):\n",
    "        \"\"\"This function trains babybear.\n",
    "\n",
    "        Args:\n",
    "            doc: The training documents\n",
    "            labels: The lables of the training documents which are human-labeled data\n",
    "            or provided by papabear.\n",
    "\n",
    "        Returns:\n",
    "            ModelResult containing:\n",
    "                probs (np.ndarray): The prediction probability\n",
    "                labels (np.ndarray): The prediction labels\n",
    "\n",
    "        Raises:\n",
    "            ValueError: If training dataset misses some of the classes.\n",
    "        \"\"\"\n",
    "        doc = list(doc)\n",
    "        if n_class != len(np.unique(labels)):\n",
    "            raise ValueError(\n",
    "                \"This solver needs samples of at least \" + str(n_class) + \" classes in the data, \"\n",
    "                \"but the data contains only \" + str(len(np.unique(labels))) + \" class\"\n",
    "            )\n",
    "        return self.model.fit(self.language_model(doc), labels)\n",
    "\n",
    "    def score(self, doc):\n",
    "        \"\"\"This function predicts using the babybear classifier.\n",
    "\n",
    "        Args:\n",
    "            doc: The testing documents\n",
    "\n",
    "        Returns:\n",
    "            ModelResult containing:\n",
    "                probs (np.ndarray): The prediction probability\n",
    "                labels (np.ndarray): The prediction labels\n",
    "        \"\"\"\n",
    "        doc = list(doc)\n",
    "        probs = []\n",
    "        prob_pred = self.model.predict_proba(self.language_model(doc))\n",
    "        labels = self.model.predict(self.language_model(doc))\n",
    "        for j in range(len(labels)):\n",
    "            probs += [prob_pred[j][labels[j]]]\n",
    "        # probs = prob_pred[:, 0]\n",
    "        \n",
    "        return {'labels':np.asarray(labels), \"probs\":np.asarray(probs)}\n",
    "\n",
    "    def __call__(self, doc):\n",
    "        # Inference Triage is based on the prediction_probabilties (ModelResults.probs)\n",
    "        # ModelResults.probs > confidence_th will not be sent to papabear\n",
    "        return self.score(doc)\n"
   ]
  },
  {
   "cell_type": "code",
   "execution_count": 33,
   "id": "b406c86e",
   "metadata": {},
   "outputs": [],
   "source": [
    "tokenizer = AutoTokenizer.from_pretrained(\"dslim/bert-base-NER\")\n",
    "model = AutoModelForTokenClassification.from_pretrained(\"dslim/bert-base-NER\")\n",
    "confidence_th_options = np.arange(0,1.005,.005)\n",
    "metric = \"accuracy\"\n",
    "metric_threshold = .99"
   ]
  },
  {
   "cell_type": "markdown",
   "id": "7df8bc4b",
   "metadata": {},
   "source": [
    "#### Instantiate babybear and papbear models"
   ]
  },
  {
   "cell_type": "code",
   "execution_count": 34,
   "id": "76f61d61",
   "metadata": {},
   "outputs": [],
   "source": [
    "from primer_nlx.embedding.SIF import SIF\n",
    "from sklearn.ensemble import RandomForestClassifier\n",
    "sif = SIF(\"latest-small\")\n",
    "# papabear = PapabearClassifier(model, tokenizer)\n",
    "babybear = RFBabyBear(language_model=sif)\n",
    "\n",
    "# inf_traige = TriagedClassifier(\"ner\", babybear, papabear, metric_threshold, \"accuracy\", confidence_th_options)\n"
   ]
  },
  {
   "cell_type": "markdown",
   "id": "7c98ecc5",
   "metadata": {},
   "source": [
    "#### hyper-parameter tuning\n",
    "\n",
    "Here we will train inference triage to find the confidence threshold."
   ]
  },
  {
   "cell_type": "code",
   "execution_count": null,
   "id": "432814bf",
   "metadata": {},
   "outputs": [],
   "source": []
  },
  {
   "cell_type": "markdown",
   "id": "9bfe8060",
   "metadata": {},
   "source": [
    "#### Training babybear model"
   ]
  },
  {
   "cell_type": "code",
   "execution_count": 35,
   "id": "0e9b0ee6",
   "metadata": {},
   "outputs": [],
   "source": [
    "\n",
    "import time\n",
    "t0 = time.time()\n",
    "babybear.train(texts_test[500::], y_test[500::], n_class=len(np.unique(labels)))\n",
    "t1 = time.time()"
   ]
  },
  {
   "cell_type": "code",
   "execution_count": 38,
   "id": "d8543d58",
   "metadata": {},
   "outputs": [],
   "source": [
    "t0 = time.time()\n",
    "a = babybear.score(texts_test[0:500])\n",
    "t1 = time.time()"
   ]
  },
  {
   "cell_type": "code",
   "execution_count": 40,
   "id": "f1c813e1",
   "metadata": {},
   "outputs": [
    {
     "data": {
      "text/plain": [
       "0.11390900611877441"
      ]
     },
     "execution_count": 40,
     "metadata": {},
     "output_type": "execute_result"
    }
   ],
   "source": [
    "t1 - t0"
   ]
  },
  {
   "cell_type": "markdown",
   "id": "c71774fd",
   "metadata": {},
   "source": [
    "#### Applying inference triage on the test dataset"
   ]
  },
  {
   "cell_type": "code",
   "execution_count": null,
   "id": "4cb971b6",
   "metadata": {},
   "outputs": [],
   "source": [
    "inf_traige.babybear = babybear\n",
    "a = inf_traige.score(texts_test, y_test)\n",
    "\n",
    "dump_data = {}\n",
    "dump_data['result'] = a\n",
    "dump_data['confidence_th'] = inf_traige.confidence_th\n",
    "dump_data['indx_conf_th'] = inf_traige.indx_conf_th\n",
    "dump_data['metric'] = inf_traige.metric\n",
    "dump_data['metric_threshold'] = inf_traige.metric_threshold\n",
    "dump_data['performance'] = inf_traige.performance\n",
    "dump_data['saving'] = inf_traige.saving\n",
    "dump_data['tot_time'] = inf_traige.tot_time\n",
    "\n",
    "with open('../output/conll.resullts', 'wb') as outp:  # Overwrites any existing file.\n",
    "        pkl.dump(dump_data, outp, pkl.HIGHEST_PROTOCOL)\n"
   ]
  },
  {
   "cell_type": "markdown",
   "id": "e4b207f0",
   "metadata": {},
   "source": [
    "#### Plot cpu/gpu run time!"
   ]
  },
  {
   "cell_type": "code",
   "execution_count": null,
   "id": "242c930c",
   "metadata": {},
   "outputs": [],
   "source": [
    "plt.scatter(inf_traige['tot_time'], np.asarray(inf_traige['performance'])*100, color='r', label='GPU run time')\n",
    "plt.xlabel('Time (sec)')\n",
    "plt.ylabel(str(inf_traige['metric']))\n",
    "\n",
    "y = np.arange(0, 105, .1)\n",
    "x = y * 0 + inf_traige['tot_time'][inf_traige['indx_conf_th']]\n",
    "plt.plot(x, y, '--', label='accuracy at confidence threshold =' + str(str(inf_traige['performance'][inf_traige['indx_conf_th']]*100)) + '%')\n",
    "plt.ylim([min(inf_traige['performance'])*100-5, 105])\n",
    "\n",
    "x = np.arange(-.5, max(inf_traige['tot_time'])+.5, .1)\n",
    "y = x * 0 + inf_traige['performance'][inf_traige['indx_conf_th']]*100\n",
    "plt.plot(x, y, '--', label='Time at confidence_th')\n",
    "plt.xlim([-.1, max(inf_traige['tot_time'])+.5])\n",
    "plt.legend(loc=0)"
   ]
  },
  {
   "cell_type": "markdown",
   "id": "5d65d296",
   "metadata": {},
   "source": [
    "Saving vs confidence threshold"
   ]
  },
  {
   "cell_type": "code",
   "execution_count": null,
   "id": "a5fef156",
   "metadata": {},
   "outputs": [],
   "source": [
    "plt.scatter(np.arange(0,1.005,.005),inf_traige['saving'], color='r', label='GPU run time')\n",
    "plt.xlabel('confidence threshol')\n",
    "plt.ylabel('saving')"
   ]
  },
  {
   "cell_type": "markdown",
   "id": "ebb12b44",
   "metadata": {},
   "source": [
    "Performance vs confidence threshold"
   ]
  },
  {
   "cell_type": "code",
   "execution_count": null,
   "id": "443affa8",
   "metadata": {},
   "outputs": [],
   "source": [
    "plt.scatter(np.arange(0,1.005,.005),inf_traige['performance'], color='r', label='GPU run time')\n",
    "plt.xlabel('confidence threshol')\n",
    "plt.ylabel(str(inf_traige['metric']))"
   ]
  },
  {
   "cell_type": "markdown",
   "id": "41c14870",
   "metadata": {},
   "source": [
    "Gpu run time vs confidence threshold"
   ]
  },
  {
   "cell_type": "code",
   "execution_count": null,
   "id": "a170e8ea",
   "metadata": {},
   "outputs": [],
   "source": [
    "plt.scatter(np.arange(0,1.005,.005),inf_traige['tot_time'], color='r', label='GPU run time')\n",
    "plt.xlabel('confidence threshold')\n",
    "plt.ylabel('time')"
   ]
  }
 ],
 "metadata": {
  "kernelspec": {
   "display_name": "Python 3 (ipykernel)",
   "language": "python",
   "name": "python3"
  },
  "language_info": {
   "codemirror_mode": {
    "name": "ipython",
    "version": 3
   },
   "file_extension": ".py",
   "mimetype": "text/x-python",
   "name": "python",
   "nbconvert_exporter": "python",
   "pygments_lexer": "ipython3",
   "version": "3.9.7"
  }
 },
 "nbformat": 4,
 "nbformat_minor": 5
}
