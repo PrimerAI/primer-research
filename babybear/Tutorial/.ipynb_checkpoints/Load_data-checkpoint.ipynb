{
 "cells": [
  {
   "cell_type": "markdown",
   "id": "b9f53f5f",
   "metadata": {},
   "source": [
    "## Data acquisition"
   ]
  },
  {
   "cell_type": "markdown",
   "id": "f91401fd",
   "metadata": {},
   "source": [
    "In thiss notebook you can get the data from hugging face and save it as pkl files."
   ]
  },
  {
   "cell_type": "code",
   "execution_count": 1,
   "id": "bf5ee5f4",
   "metadata": {},
   "outputs": [],
   "source": [
    "import sys\n",
    "sys.path.append('../src/')\n",
    "import util_funcs as uf"
   ]
  },
  {
   "cell_type": "markdown",
   "id": "77f36af4",
   "metadata": {},
   "source": [
    "Please specify device as -1 or 1. -1 is when you run the code on CPU, 1 if you use GPU."
   ]
  },
  {
   "cell_type": "markdown",
   "id": "8a2e65d1",
   "metadata": {},
   "source": [
    "#### Data for conll2003"
   ]
  },
  {
   "cell_type": "code",
   "execution_count": 1,
   "id": "db97682d",
   "metadata": {},
   "outputs": [
    {
     "ename": "NameError",
     "evalue": "name 'uf' is not defined",
     "output_type": "error",
     "traceback": [
      "\u001b[0;31m---------------------------------------------------------------------------\u001b[0m",
      "\u001b[0;31mNameError\u001b[0m                                 Traceback (most recent call last)",
      "\u001b[0;32m/var/folders/rr/74y_k_zn3hn0bjf6tq3vn7840000gp/T/ipykernel_58982/256183747.py\u001b[0m in \u001b[0;36m<module>\u001b[0;34m\u001b[0m\n\u001b[1;32m      1\u001b[0m \u001b[0mdataset\u001b[0m \u001b[0;34m=\u001b[0m \u001b[0;34m'conll2003'\u001b[0m\u001b[0;34m\u001b[0m\u001b[0;34m\u001b[0m\u001b[0m\n\u001b[1;32m      2\u001b[0m \u001b[0mmodel_name\u001b[0m \u001b[0;34m=\u001b[0m \u001b[0;34m\"dslim/bert-base-NER\"\u001b[0m\u001b[0;34m\u001b[0m\u001b[0;34m\u001b[0m\u001b[0m\n\u001b[0;32m----> 3\u001b[0;31m \u001b[0mtrain\u001b[0m\u001b[0;34m,\u001b[0m \u001b[0mdev\u001b[0m\u001b[0;34m,\u001b[0m \u001b[0mtest\u001b[0m \u001b[0;34m=\u001b[0m \u001b[0muf\u001b[0m\u001b[0;34m.\u001b[0m\u001b[0mload_data\u001b[0m\u001b[0;34m(\u001b[0m\u001b[0mdataset\u001b[0m\u001b[0;34m)\u001b[0m\u001b[0;34m\u001b[0m\u001b[0;34m\u001b[0m\u001b[0m\n\u001b[0m\u001b[1;32m      4\u001b[0m \u001b[0;34m\u001b[0m\u001b[0m\n\u001b[1;32m      5\u001b[0m \u001b[0mtext_train\u001b[0m \u001b[0;34m,\u001b[0m \u001b[0my_train\u001b[0m\u001b[0;34m,\u001b[0m \u001b[0mdict_ner_train\u001b[0m \u001b[0;34m=\u001b[0m \u001b[0muf\u001b[0m\u001b[0;34m.\u001b[0m\u001b[0mfind_ner_x_y\u001b[0m\u001b[0;34m(\u001b[0m\u001b[0mtrain\u001b[0m\u001b[0;34m[\u001b[0m\u001b[0;36m0\u001b[0m\u001b[0;34m:\u001b[0m\u001b[0;36m100\u001b[0m\u001b[0;34m]\u001b[0m\u001b[0;34m,\u001b[0m \u001b[0mmodel_name\u001b[0m\u001b[0;34m,\u001b[0m \u001b[0mdevice\u001b[0m\u001b[0;34m=\u001b[0m\u001b[0mdevice\u001b[0m\u001b[0;34m)\u001b[0m\u001b[0;34m\u001b[0m\u001b[0;34m\u001b[0m\u001b[0m\n",
      "\u001b[0;31mNameError\u001b[0m: name 'uf' is not defined"
     ]
    }
   ],
   "source": [
    "dataset = 'conll2003'\n",
    "model_name = \"dslim/bert-base-NER\"\n",
    "train, dev, test = uf.load_data(dataset)\n",
    "\n",
    "text_train , y_train, dict_ner_train = uf.find_ner_x_y(train, model_name)\n",
    "uf.save_pkl('../data/conll2003/train_conll.pkl', text_train, y_train, dict_ner_train)\n",
    "\n",
    "text_test , y_test, dict_ner_test = uf.find_ner_x_y(dev, model_name)\n",
    "uf.save_pkl('../data/conll2003/test_conll.pkl', text_test, y_test, dict_ner_test)"
   ]
  },
  {
   "cell_type": "markdown",
   "id": "2cf832b2",
   "metadata": {},
   "source": [
    "#### Data for ncbi_disease"
   ]
  },
  {
   "cell_type": "code",
   "execution_count": null,
   "id": "c3d821b2",
   "metadata": {},
   "outputs": [],
   "source": [
    "dataset = 'ncbi_disease'\n",
    "model_name = \"fidukm34/biobert_v1.1_pubmed-finetuned-ner-finetuned-ner\"\n",
    "train, dev, test = uf.load_data(dataset)\n",
    "\n",
    "text_train , y_train, dict_ner_train = uf.find_ner_x_y(train, model_name)\n",
    "uf.save_pkl('../data/ncbi_disease/train_ncbi.pkl', text_train, y_train, dict_ner_train)\n",
    "\n",
    "text_test , y_test, dict_ner_test = uf.find_ner_x_y(test, model_name)\n",
    "uf.save_pkl('../data/ncbi_disease/test_ncbi.pkl', text_test, y_test, dict_ner_test)"
   ]
  },
  {
   "cell_type": "markdown",
   "id": "a8e3824d",
   "metadata": {},
   "source": [
    "#### Data for emotion"
   ]
  },
  {
   "cell_type": "code",
   "execution_count": null,
   "id": "fb0b3262",
   "metadata": {},
   "outputs": [],
   "source": [
    "dataset = 'emotion'\n",
    "train, dev, test = uf.load_data(dataset)\n",
    "\n",
    "text_train , y_train = uf.find_x_y_emotion(train)\n",
    "uf.save_pkl('../data/emotion/train_emotion.pkl', text_train, y_train)\n",
    "\n",
    "text_test , y_test = uf.find_x_y_emotion(test)\n",
    "uf.save_pkl('../data/emotion/test_emotion.pkl', text_test, y_test)"
   ]
  },
  {
   "cell_type": "code",
   "execution_count": null,
   "id": "9dfce6a1",
   "metadata": {},
   "outputs": [],
   "source": []
  }
 ],
 "metadata": {
  "kernelspec": {
   "display_name": "Python 3 (ipykernel)",
   "language": "python",
   "name": "python3"
  },
  "language_info": {
   "codemirror_mode": {
    "name": "ipython",
    "version": 3
   },
   "file_extension": ".py",
   "mimetype": "text/x-python",
   "name": "python",
   "nbconvert_exporter": "python",
   "pygments_lexer": "ipython3",
   "version": "3.9.7"
  }
 },
 "nbformat": 4,
 "nbformat_minor": 5
}
