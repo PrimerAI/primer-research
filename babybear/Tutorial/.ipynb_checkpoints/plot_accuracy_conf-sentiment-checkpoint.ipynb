{
 "cells": [
  {
   "cell_type": "code",
   "execution_count": 4,
   "id": "fc491f24",
   "metadata": {},
   "outputs": [],
   "source": [
    "data = \"ncbi_disease\""
   ]
  },
  {
   "cell_type": "code",
   "execution_count": 5,
   "id": "d2b88e0b",
   "metadata": {},
   "outputs": [],
   "source": [
    "import seaborn as sns\n",
    "from scipy.stats import norm\n",
    "import pickle as pkl\n",
    "import numpy as np\n",
    "import pandas as pd\n",
    "filename = \"/Users/leilakhalili/dev/babybear/applied_research/projects/inference-triage/paper/fig/\" + str(data) + \"/fig/dev_data.pkl\"\n",
    "sns.set_style(\"darkgrid\")\n",
    "\n"
   ]
  },
  {
   "cell_type": "code",
   "execution_count": 6,
   "id": "b108110e",
   "metadata": {},
   "outputs": [],
   "source": [
    "with open(filename, 'rb') as handle:\n",
    "    dump = pkl.load(handle)\n"
   ]
  },
  {
   "cell_type": "code",
   "execution_count": 7,
   "id": "8d758852",
   "metadata": {},
   "outputs": [],
   "source": [
    "conf = np.arange(0, 1.005, .005)"
   ]
  },
  {
   "cell_type": "code",
   "execution_count": 8,
   "id": "9b61a0c9",
   "metadata": {},
   "outputs": [],
   "source": [
    "\n",
    "saving = dump['saving']\n",
    "accuracy = np.asarray(dump['accuracy'])*100\n",
    "f1 = np.asarray(dump['f1'])*100\n",
    "precision = np.asarray(dump['precision'])*100\n",
    "recall = np.asarray(dump['recall'])*100\n",
    "\n",
    "df = pd.DataFrame({'Threshold':conf, 'Saving':saving, 'Accuracy':accuracy, 'F1_score':f1, \n",
    "                  'Precision':precision, 'Recall':recall})\n"
   ]
  },
  {
   "cell_type": "code",
   "execution_count": 9,
   "id": "29eb277e",
   "metadata": {},
   "outputs": [
    {
     "data": {
      "image/png": "[encoded data removed]",
      "text/plain": [
       "<Figure size 432x288 with 1 Axes>"
      ]
     },
     "metadata": {},
     "output_type": "display_data"
    }
   ],
   "source": [
    "import matplotlib.pyplot as plt\n",
    "y = np.arange(-10, 110, 10)\n",
    "x = len(y)*[.8]\n",
    "plt.plot(conf, saving, 'k')\n",
    "plt.plot(conf, recall, '--k', alpha=.7)\n",
    "plt.plot(conf, f1, '-y', alpha=.7)\n",
    "plt.plot(conf, accuracy, '--r', alpha=.7)\n",
    "plt.plot(x, y, '--',color='k', linewidth=.5)\n",
    "plt.legend(['Saving', 'Recall', 'F1_score', \"Accuracy\"], loc=\"best\")\n",
    "plt.xlabel('Threshold')\n",
    "plt.ylabel('Metric')\n",
    "plt.ylim([0,102])\n",
    "fig0 = sns.despine()\n",
    "# fig = fig0.get_figure()\n",
    "plt.savefig(\"/Users/leilakhalili/Desktop/paper_fig/new/\" + data+ \"_dev.png\",dpi=1200)"
   ]
  },
  {
   "cell_type": "code",
   "execution_count": 13,
   "id": "a1e9dca5",
   "metadata": {},
   "outputs": [
    {
     "data": {
      "image/png": "[encoded data removed]",
      "text/plain": [
       "<Figure size 432x288 with 1 Axes>"
      ]
     },
     "metadata": {},
     "output_type": "display_data"
    }
   ],
   "source": [
    "with open(\"/Users/leilakhalili/dev/babybear/applied_research/projects/inference-triage/paper/output/\" + data+ \".results\", \"rb\") as pickle_file:\n",
    "    inf_traige = pkl.load(pickle_file)\n",
    "plt.plot(inf_traige['tot_time'], np.asarray(inf_traige['performance'])*100, 'o', color='r', label='GPU run time')\n",
    "plt.xlabel('Time (min)')\n",
    "# plt.ylabel(str(inf_traige['metric']))\n",
    "plt.ylabel(str(\"Accuracy\"))\n",
    "y = np.arange(0, 105, .1)\n",
    "x = y * 0 + inf_traige['tot_time'][inf_traige['indx_conf_th']]\n",
    "# plt.plot(x, y, '--k', label='accuracy at confidence threshold =' + str(str(inf_traige['performance'][inf_traige['indx_conf_th']]*100)) + '%', alpha=.6)\n",
    "# plt.ylim([min(inf_traige['performance'])*100-5, 105])\n",
    "\n",
    "# x = np.arange(-.5, max(inf_traige['tot_time'])+.5, .1)\n",
    "# y = x * 0 + inf_traige['performance'][inf_traige['indx_conf_th']]*100\n",
    "# plt.plot(x, y, '--k', label='Time at confidence_th', alpha=.6)\n",
    "# plt.xlim([-.1, max(inf_traige['tot_time'])+.5])\n",
    "# plt.ylim([96, 101])\n",
    "# plt.yticks([60, 70, 80, 90, 100])\n",
    "fig0 = sns.despine()\n",
    "plt.savefig(\"/Users/leilakhalili/Desktop/paper_fig/new/\"+ data + \"_gpu.png\",dpi=1200)"
   ]
  },
  {
   "cell_type": "code",
   "execution_count": 10,
   "id": "03ca6506",
   "metadata": {},
   "outputs": [
    {
     "data": {
      "text/plain": [
       "dict_keys(['result', 'confidence_th', 'indx_conf_th', 'metric', 'metric_threshold', 'performance', 'saving', 'tot_time'])"
      ]
     },
     "execution_count": 10,
     "metadata": {},
     "output_type": "execute_result"
    }
   ],
   "source": [
    "inf_traige.keys()"
   ]
  },
  {
   "cell_type": "code",
   "execution_count": 18,
   "id": "0b9f2a31",
   "metadata": {},
   "outputs": [
    {
     "data": {
      "text/plain": [
       "0.9776833156216791"
      ]
     },
     "execution_count": 18,
     "metadata": {},
     "output_type": "execute_result"
    }
   ],
   "source": [
    "inf_traige['performance'][inf_traige['indx_conf_th']]"
   ]
  },
  {
   "cell_type": "code",
   "execution_count": 17,
   "id": "5f2ddabb",
   "metadata": {},
   "outputs": [
    {
     "data": {
      "text/plain": [
       "196"
      ]
     },
     "execution_count": 17,
     "metadata": {},
     "output_type": "execute_result"
    }
   ],
   "source": [
    "inf_traige['indx_conf_th']"
   ]
  },
  {
   "cell_type": "code",
   "execution_count": null,
   "id": "c3739d60",
   "metadata": {},
   "outputs": [],
   "source": []
  }
 ],
 "metadata": {
  "kernelspec": {
   "display_name": "Python 3 (ipykernel)",
   "language": "python",
   "name": "python3"
  },
  "language_info": {
   "codemirror_mode": {
    "name": "ipython",
    "version": 3
   },
   "file_extension": ".py",
   "mimetype": "text/x-python",
   "name": "python",
   "nbconvert_exporter": "python",
   "pygments_lexer": "ipython3",
   "version": "3.9.7"
  }
 },
 "nbformat": 4,
 "nbformat_minor": 5
}
