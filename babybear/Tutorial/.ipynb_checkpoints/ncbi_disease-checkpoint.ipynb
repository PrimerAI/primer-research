{
 "cells": [
  {
   "cell_type": "markdown",
   "id": "f905e2b3",
   "metadata": {},
   "source": [
    "## ncbi_disease dataset"
   ]
  },
  {
   "cell_type": "markdown",
   "id": "fcf6009f",
   "metadata": {},
   "source": [
    "This notebook is to generate the results on [ncbi_disease dataset](https://huggingface.co/datasets/ncbi_disease) taken from hugging face. The model in this work is [fidukm34/biobert_v1.1_pubmed-finetuned-ner-finetuned-ner](https://huggingface.co/fidukm34/biobert_v1.1_pubmed-finetuned-ner-finetuned-ner)."
   ]
  },
  {
   "cell_type": "code",
   "execution_count": 1,
   "id": "6f9e3185",
   "metadata": {},
   "outputs": [],
   "source": [
    "import sys\n",
    "sys.path.append('../src/')\n",
    "\n",
    "\n",
    "import numpy as np\n",
    "import pickle5 as pkl\n",
    "import tensorflow_hub as hub\n",
    "\n",
    "import util_funcs as uf\n",
    "from nlx_babybear import RFBabyBear\n",
    "from inference_triage import PapabearClassifier, TriagedClassifier\n",
    "\n",
    "from transformers import AutoTokenizer, AutoModelForTokenClassification\n",
    "\n",
    "from nltk.tokenize.treebank import TreebankWordDetokenizer\n",
    "from sklearn.model_selection import KFold\n",
    "import matplotlib.pyplot as plt\n"
   ]
  },
  {
   "cell_type": "markdown",
   "id": "4a82e781",
   "metadata": {},
   "source": [
    "Load the data"
   ]
  },
  {
   "cell_type": "code",
   "execution_count": 2,
   "id": "350f8311",
   "metadata": {},
   "outputs": [],
   "source": [
    "# filename = '../data/ncbi_disease/train_ncbi.pkl'\n",
    "# texts_train, y_train, ner_train = uf.open_pkl(filename)\n",
    "# doc, labels = np.asarray(texts_train), np.asarray(y_train)\n",
    "\n",
    "filename = '../data/ncbi_disease/test_ncbi.pkl'\n",
    "texts_test, y_test, ner_test = uf.open_pkl(filename)\n",
    "texts_test, y_test = np.asarray(texts_test), np.asarray(y_test)"
   ]
  },
  {
   "cell_type": "markdown",
   "id": "3cae2194",
   "metadata": {},
   "source": [
    "Load the lite model"
   ]
  },
  {
   "cell_type": "code",
   "execution_count": 3,
   "id": "25d9a300",
   "metadata": {},
   "outputs": [],
   "source": [
    "len_text_test = []\n",
    "for i in texts_test:\n",
    "    len_text_test.append(len(i))\n",
    "\n"
   ]
  },
  {
   "cell_type": "code",
   "execution_count": null,
   "id": "a747748e",
   "metadata": {},
   "outputs": [],
   "source": [
    "label_0 = np.where(y_dev == 0)[0]\n",
    "label_1 = np.where(y_dev == 1)[0]\n",
    "fig = plt.figure()\n",
    "ax = fig.add_axes([0,0,1,1])\n",
    "langs = ['Sentences with NO entity', 'Sentences WITH entity']\n",
    "students = [len(label_0),len(label_1)]\n",
    "ax.bar(langs,students)\n",
    "plt.ylabel('# of sentences in all dataset')\n",
    "plt.show()\n"
   ]
  },
  {
   "cell_type": "markdown",
   "id": "c991a19d",
   "metadata": {},
   "source": [
    "A histogram of number of tokens in each document on test dataset!"
   ]
  },
  {
   "cell_type": "code",
   "execution_count": 4,
   "id": "333572e7",
   "metadata": {},
   "outputs": [
    {
     "data": {
      "image/png": "[encoded data removed]",
      "text/plain": [
       "<Figure size 432x288 with 1 Axes>"
      ]
     },
     "metadata": {
      "needs_background": "light"
     },
     "output_type": "display_data"
    }
   ],
   "source": [
    "length = []\n",
    "plt.rcParams.update({'font.size': 14})\n",
    "for i in range(len(ner_test)):\n",
    "    length.append(len(ner_test[i]))\n",
    "\n",
    "plt.hist(length, bins=47,density=True)\n",
    "plt.xlabel('Number of entities in sentence level')\n",
    "plt.ylabel('Frequency')\n",
    "# plt.yticks([0, .05, .1, .15, .2])\n",
    "# sns.despine()\n",
    "plt.savefig(\"/Users/leilakhalili/Desktop/paper_fig/new/ncbi_dist.png\",dpi=300) "
   ]
  },
  {
   "cell_type": "markdown",
   "id": "d8e63027",
   "metadata": {},
   "source": [
    "#### Input file:\n",
    "\n",
    "`model`: The model used as [papabear model]((https://huggingface.co/dslim/bert-base-NER))\n",
    "\n",
    "`confidence_th_options`: The values for confidence threshold\n",
    "\n",
    "`metric`: The metric to find the performance. It can be one of the \"accuracy\", \"recall\", \"f1_score\" and \"precision\".\n",
    "\n",
    "`metric_threshold`: The minimum value of performance we are expecting for the final model to have."
   ]
  },
  {
   "cell_type": "code",
   "execution_count": null,
   "id": "b406c86e",
   "metadata": {},
   "outputs": [],
   "source": [
    "tokenizer = AutoTokenizer.from_pretrained(\"fidukm34/biobert_v1.1_pubmed-finetuned-ner-finetuned-ner\")\n",
    "model = AutoModelForTokenClassification.from_pretrained(\"fidukm34/biobert_v1.1_pubmed-finetuned-ner-finetuned-ner\")\n",
    "confidence_th_options = np.arange(0,1.005,.005)\n",
    "metric = \"accuracy\"\n",
    "metric_threshold = .99\n"
   ]
  },
  {
   "cell_type": "markdown",
   "id": "0fb395ec",
   "metadata": {},
   "source": [
    "#### Instantiate babybear and papbear models"
   ]
  },
  {
   "cell_type": "code",
   "execution_count": null,
   "id": "76f61d61",
   "metadata": {},
   "outputs": [],
   "source": [
    "language_model = hub.load('https://tfhub.dev/google/universal-sentence-encoder/4')\n",
    "papabear = PapabearClassifier(model, tokenizer)\n",
    "babybear = RFBabyBear(language_model)\n",
    "\n",
    "inf_traige = TriagedClassifier(\"ner\", babybear, papabear, metric_threshold, \"accuracy\", confidence_th_options)\n"
   ]
  },
  {
   "cell_type": "markdown",
   "id": "7c98ecc5",
   "metadata": {},
   "source": [
    "#### hyper-parameter tuning\n",
    "\n",
    "Here we will train inference triage to find the confidence threshold."
   ]
  },
  {
   "cell_type": "code",
   "execution_count": null,
   "id": "432814bf",
   "metadata": {},
   "outputs": [],
   "source": [
    "inf_traige.train(doc, labels)\n",
    "\n",
    "print(f\"Confidence threshold is: {inf_traige.confidence_th}\")\n",
    "\n",
    "print(f\"The following plots are the saving vs Threshold for different CV fold\")\n"
   ]
  },
  {
   "cell_type": "markdown",
   "id": "6992f0fc",
   "metadata": {},
   "source": [
    "#### Training babybear model"
   ]
  },
  {
   "cell_type": "code",
   "execution_count": null,
   "id": "0e9b0ee6",
   "metadata": {},
   "outputs": [],
   "source": [
    "babybear = RFBabyBear(language_model)\n",
    "babybear.train(doc, labels, n_class=len(np.unique(labels)))"
   ]
  },
  {
   "cell_type": "markdown",
   "id": "8c5cf19d",
   "metadata": {},
   "source": [
    "#### Applying inference triage on the test dataset"
   ]
  },
  {
   "cell_type": "code",
   "execution_count": null,
   "id": "4cb971b6",
   "metadata": {},
   "outputs": [],
   "source": [
    "inf_traige.babybear = babybear\n",
    "a = inf_traige.score(texts_test, y_test)\n",
    "\n",
    "dump_data = {}\n",
    "dump_data['result'] = a\n",
    "dump_data['confidence_th'] = inf_traige.confidence_th\n",
    "dump_data['indx_conf_th'] = inf_traige.indx_conf_th\n",
    "dump_data['metric'] = inf_traige.metric\n",
    "dump_data['metric_threshold'] = inf_traige.metric_threshold\n",
    "dump_data['performance'] = inf_traige.performance\n",
    "dump_data['saving'] = inf_traige.saving\n",
    "dump_data['tot_time'] = inf_traige.tot_time\n",
    "\n",
    "with open('../output/ncbi.results', 'wb') as outp:  # Overwrites any existing file.\n",
    "        pkl.dump(dump_data, outp, pkl.HIGHEST_PROTOCOL)\n"
   ]
  },
  {
   "cell_type": "markdown",
   "id": "54a4a08e",
   "metadata": {},
   "source": [
    "#### Plot cpu/gpu run time!"
   ]
  },
  {
   "cell_type": "code",
   "execution_count": null,
   "id": "242c930c",
   "metadata": {},
   "outputs": [],
   "source": [
    "plt.scatter(inf_traige['tot_time'], np.asarray(inf_traige['performance'])*100, color='r', label='GPU run time')\n",
    "plt.xlabel('Time (sec)')\n",
    "plt.ylabel(str(inf_traige['metric']))\n",
    "\n",
    "y = np.arange(0, 105, .1)\n",
    "x = y * 0 + inf_traige['tot_time'][inf_traige['indx_conf_th']]\n",
    "plt.plot(x, y, '--', label='accuracy at confidence threshold =' + str(str(inf_traige['performance'][inf_traige['indx_conf_th']]*100)) + '%')\n",
    "plt.ylim([min(inf_traige['performance'])*100-5, 105])\n",
    "\n",
    "x = np.arange(-.5, max(inf_traige['tot_time'])+.5, .1)\n",
    "y = x * 0 + inf_traige['performance'][inf_traige['indx_conf_th']]*100\n",
    "plt.plot(x, y, '--', label='Time at confidence_th')\n",
    "plt.xlim([-.1, max(inf_traige['tot_time'])+.5])\n",
    "plt.legend(loc=0)"
   ]
  },
  {
   "cell_type": "markdown",
   "id": "7b4522b5",
   "metadata": {},
   "source": [
    "Saving vs confidence threshold"
   ]
  },
  {
   "cell_type": "code",
   "execution_count": null,
   "id": "0aa91d01",
   "metadata": {},
   "outputs": [],
   "source": [
    "plt.scatter(np.arange(0,1.005,.005),inf_traige['saving'], color='r', label='GPU run time')\n",
    "plt.xlabel('confidence threshol')\n",
    "plt.ylabel('saving')"
   ]
  },
  {
   "cell_type": "markdown",
   "id": "3c4194a9",
   "metadata": {},
   "source": [
    "Performance vs confidence threshold"
   ]
  },
  {
   "cell_type": "code",
   "execution_count": null,
   "id": "2bc74e58",
   "metadata": {},
   "outputs": [],
   "source": [
    "plt.scatter(np.arange(0,1.005,.005),inf_traige['performance'], color='r', label='GPU run time')\n",
    "plt.xlabel('confidence threshol')\n",
    "plt.ylabel(str(inf_traige['metric']))"
   ]
  },
  {
   "cell_type": "markdown",
   "id": "8812470e",
   "metadata": {},
   "source": [
    "Gpu run time vs confidence threshold"
   ]
  },
  {
   "cell_type": "code",
   "execution_count": null,
   "id": "1078bb2e",
   "metadata": {},
   "outputs": [],
   "source": [
    "plt.scatter(np.arange(0,1.005,.005),inf_traige['tot_time'], color='r', label='GPU run time')\n",
    "plt.xlabel('confidence threshold')\n",
    "plt.ylabel('time')"
   ]
  }
 ],
 "metadata": {
  "kernelspec": {
   "display_name": "Python 3 (ipykernel)",
   "language": "python",
   "name": "python3"
  },
  "language_info": {
   "codemirror_mode": {
    "name": "ipython",
    "version": 3
   },
   "file_extension": ".py",
   "mimetype": "text/x-python",
   "name": "python",
   "nbconvert_exporter": "python",
   "pygments_lexer": "ipython3",
   "version": "3.9.7"
  }
 },
 "nbformat": 4,
 "nbformat_minor": 5
}
