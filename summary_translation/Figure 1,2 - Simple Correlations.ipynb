{
 "cells": [
  {
   "cell_type": "code",
   "execution_count": null,
   "id": "d6bfc93a",
   "metadata": {
    "ExecuteTime": {
     "end_time": "2022-04-26T19:47:52.766449Z",
     "start_time": "2022-04-26T19:47:46.148697Z"
    }
   },
   "outputs": [],
   "source": [
    "import matplotlib.pyplot as plt\n",
    "import numpy as np\n",
    "import pandas as pd\n",
    "import seaborn as sns\n",
    "from scipy.stats import spearmanr, kendalltau\n",
    "\n",
    "from utils import read_data_into_dataframe, qualities\n",
    "\n",
    "sns.set(color_codes=True)"
   ]
  },
  {
   "cell_type": "markdown",
   "id": "b0c67592",
   "metadata": {
    "ExecuteTime": {
     "end_time": "2022-04-19T17:51:24.406133Z",
     "start_time": "2022-04-19T17:51:24.403773Z"
    }
   },
   "source": [
    "# Read Data"
   ]
  },
  {
   "cell_type": "code",
   "execution_count": null,
   "id": "6b7fea52",
   "metadata": {
    "ExecuteTime": {
     "end_time": "2022-04-26T19:47:58.643270Z",
     "start_time": "2022-04-26T19:47:52.768675Z"
    }
   },
   "outputs": [],
   "source": [
    "df = read_data_into_dataframe()\n",
    "\n",
    "df['from'] = df.language.apply(lambda x: x.split('^')[0])\n",
    "df['to'] = df.language.apply(lambda x: x.split('^')[-1])\n",
    "df['language'] = df.to"
   ]
  },
  {
   "cell_type": "code",
   "execution_count": null,
   "id": "37a31811",
   "metadata": {
    "ExecuteTime": {
     "end_time": "2022-04-26T19:47:58.674026Z",
     "start_time": "2022-04-26T19:47:58.646646Z"
    }
   },
   "outputs": [],
   "source": [
    "auto_measures = [\n",
    "    \"bertscores_F\",\n",
    "    \"rougeL\",\n",
    "    \"rouge1\",\n",
    "    \"rouge2\",\n",
    "    \"bleu\",\n",
    "    \"jshannon\",\n",
    "    \"blanc\",\n",
    "    \"estime\",\n",
    "]\n",
    "\n",
    "renamer = {\n",
    "    'bertscores_F': 'BERTScore',\n",
    "    'rougeL': \"ROUGE-L\",\n",
    "    'rouge1': \"ROUGE-1\",\n",
    "    'rouge2': \"ROUGE-2\",\n",
    "    'bleu': \"BLEU\",\n",
    "    'jshannon':\"JS\",\n",
    "    'blanc':\"BLANC\",\n",
    "    'estime': 'ESTIME'\n",
    "}\n",
    "figure1_columns = [\"Metric\", \"EN-DE\", \"EN-FR\", \"EN-ES\", \"EN-IT\", \"EN-AF\", \"EN-HI\", \"EN-RU\"]\n",
    "\n",
    "negative_corrs = [\"jshannon\", \"estime\"]\n",
    "non_en = df.loc[df.language != \"en\", \"language\"].drop_duplicates().tolist()"
   ]
  },
  {
   "cell_type": "markdown",
   "id": "7f6da532",
   "metadata": {},
   "source": [
    "# Figure 1"
   ]
  },
  {
   "cell_type": "code",
   "execution_count": null,
   "id": "0d2ad3b6",
   "metadata": {
    "ExecuteTime": {
     "end_time": "2022-04-26T19:48:00.056243Z",
     "start_time": "2022-04-26T19:47:58.675703Z"
    }
   },
   "outputs": [],
   "source": [
    "table2_dict = []\n",
    "for met in auto_measures:\n",
    "    for qual in qualities:\n",
    "\n",
    "        expert = df.loc[\n",
    "            (df.submetric == qual) & (df.metric == \"experts\") & (df.language == \"en\"),\n",
    "            \"value\",\n",
    "        ]\n",
    "        other_met = df.loc[(df.submetric == met) & (df.language == \"en\"), \"value\"]\n",
    "        \n",
    "        sign_factor = -1 if met in negative_corrs else 1\n",
    "        sp_corr, sp_p = spearmanr(expert, other_met)\n",
    "        kt_corr = kendalltau(expert, other_met).correlation\n",
    "\n",
    "        table2_dict.append(\n",
    "            dict(\n",
    "                submetric=met,\n",
    "                quality=qual[:3],\n",
    "                spearman_corr=sp_corr * sign_factor,\n",
    "                spearman_p=sp_p,\n",
    "                kendall_corr=kt_corr * sign_factor,\n",
    "            )\n",
    "        )\n",
    "\n",
    "tbl2_df = pd.DataFrame(table2_dict).rename(columns={'language' : 'Language'})\n",
    "tbl2_df['Metric'] = tbl2_df.submetric.apply(renamer.get)"
   ]
  },
  {
   "cell_type": "code",
   "execution_count": null,
   "id": "6edce453",
   "metadata": {
    "ExecuteTime": {
     "end_time": "2022-04-26T19:48:00.907345Z",
     "start_time": "2022-04-26T19:48:00.058092Z"
    }
   },
   "outputs": [],
   "source": [
    "table2_sp = (\n",
    "    tbl2_df\n",
    "    .pivot(index=\"Metric\", columns=\"quality\")[\"spearman_corr\"]\n",
    "    .round(2)\n",
    "    .reset_index()\n",
    "    .sort_values(\"Metric\")\n",
    ")\n",
    "\n",
    "plt.figure(figsize=(8,5))\n",
    "ax = sns.heatmap(\n",
    "    table2_sp.set_index('Metric'), \n",
    "    annot=True,\n",
    "    cmap=\"YlGnBu\",\n",
    "    annot_kws={\"fontsize\":16},\n",
    "    fmt='0.2f'\n",
    ")\n",
    "cbar = ax.collections[0].colorbar\n",
    "cbar.ax.tick_params(labelsize=16)\n",
    "plt.xticks(size=16)\n",
    "plt.yticks(size=16)\n",
    "plt.xlabel(\"Quality\", size=16)\n",
    "plt.ylabel(\"Metric\", size=16)\n",
    "plt.title(r\"Spearman's $\\rho$ Correlation\", size=18)\n",
    "plt.savefig('table2_spearman.pdf', bbox_inches='tight', format='pdf')"
   ]
  },
  {
   "cell_type": "code",
   "execution_count": null,
   "id": "3e6e56dd",
   "metadata": {
    "ExecuteTime": {
     "end_time": "2022-04-26T19:48:01.441359Z",
     "start_time": "2022-04-26T19:48:00.908759Z"
    },
    "scrolled": false
   },
   "outputs": [],
   "source": [
    "table2_kt = (\n",
    "    tbl2_df\n",
    "    .pivot(index=\"Metric\", columns=\"quality\")[\"kendall_corr\"]\n",
    "    .round(2)\n",
    "    .reset_index()\n",
    "    .sort_values(\"Metric\")\n",
    ")\n",
    "\n",
    "plt.figure(figsize=(8,5))\n",
    "ax = sns.heatmap(\n",
    "    table2_kt.set_index('Metric'), \n",
    "    annot=True,\n",
    "    cmap=\"YlGnBu\",\n",
    "    annot_kws={\"fontsize\":16},\n",
    "    fmt='0.2f'\n",
    ")\n",
    "cbar = ax.collections[0].colorbar\n",
    "cbar.ax.tick_params(labelsize=16)\n",
    "plt.xticks(size=16)\n",
    "plt.yticks(size=16)\n",
    "plt.xlabel(\"Quality\", size=16)\n",
    "plt.ylabel(\" \", size=16)\n",
    "plt.title(r\"Kendall's $\\tau$ Correlation\", size=18)\n",
    "plt.savefig('table2_kendall.pdf', bbox_inches='tight', format='pdf')"
   ]
  },
  {
   "cell_type": "markdown",
   "id": "609b68c4",
   "metadata": {},
   "source": [
    "# Figure 2"
   ]
  },
  {
   "cell_type": "code",
   "execution_count": null,
   "id": "4c851ca7",
   "metadata": {
    "ExecuteTime": {
     "end_time": "2022-04-26T19:48:03.409062Z",
     "start_time": "2022-04-26T19:48:01.442716Z"
    }
   },
   "outputs": [],
   "source": [
    "table1_dict = []\n",
    "for met in auto_measures:\n",
    "    for lang in non_en:\n",
    "        \n",
    "        english = df.loc[(df.submetric == met) & (df.language == \"en\"), \"value\"]\n",
    "        other_lang = df.loc[(df.submetric == met) & (df.language == lang), \"value\"]\n",
    "\n",
    "        sp_corr, sp_p = spearmanr(english, other_lang)\n",
    "        kt_corr = kendalltau(english, other_lang).correlation\n",
    "\n",
    "        table1_dict.append(\n",
    "            dict(\n",
    "                submetric=met,\n",
    "                language=f\"EN-{lang.upper()}\",\n",
    "                spearman_corr=sp_corr,\n",
    "                spearman_p=sp_p,\n",
    "                kendall_corr=kt_corr,\n",
    "            )\n",
    "        )\n",
    "\n",
    "tbl1_df = pd.DataFrame(table1_dict).rename(columns={'language' : 'Language'})\n",
    "tbl1_df['Metric'] = tbl1_df.submetric.apply(renamer.get)"
   ]
  },
  {
   "cell_type": "code",
   "execution_count": null,
   "id": "a05492ca",
   "metadata": {
    "ExecuteTime": {
     "end_time": "2022-04-26T19:48:04.136639Z",
     "start_time": "2022-04-26T19:48:03.410490Z"
    }
   },
   "outputs": [],
   "source": [
    "table1_sp = (\n",
    "    tbl1_df\n",
    "    .pivot(index=\"Metric\", columns=\"Language\")[\"spearman_corr\"]\n",
    "    .round(2)\n",
    "    .reset_index()\n",
    "    .sort_values(\"Metric\")\n",
    "    .loc[:, figure1_columns]\n",
    ")\n",
    "\n",
    "\n",
    "plt.figure(figsize=(8,5))\n",
    "ax = sns.heatmap(\n",
    "    table1_sp.set_index('Metric'), \n",
    "    annot=True,\n",
    "    cmap=\"YlGnBu\",\n",
    "    annot_kws={\"fontsize\":16},\n",
    "    fmt='0.2f'\n",
    ")\n",
    "cbar = ax.collections[0].colorbar\n",
    "cbar.ax.tick_params(labelsize=16)\n",
    "plt.xticks(size=16)\n",
    "plt.yticks(size=16)\n",
    "plt.xlabel(\"Language\", size=16)\n",
    "plt.ylabel(\"Metric\", size=16)\n",
    "plt.title(r\"Spearman's $\\rho$ Correlation\", size=18)\n",
    "plt.savefig('table1_spearman.pdf', bbox_inches='tight', format='pdf')\n",
    "\n"
   ]
  },
  {
   "cell_type": "code",
   "execution_count": null,
   "id": "47fddd0b",
   "metadata": {
    "ExecuteTime": {
     "end_time": "2022-04-26T19:48:04.920436Z",
     "start_time": "2022-04-26T19:48:04.139443Z"
    }
   },
   "outputs": [],
   "source": [
    "table1_kt = (\n",
    "    tbl1_df\n",
    "    .pivot(index=\"Metric\", columns=\"Language\")[\"kendall_corr\"]\n",
    "    .round(2)\n",
    "    .reset_index()\n",
    "    .sort_values(\"Metric\")\n",
    "    .loc[:, figure1_columns]\n",
    ")\n",
    "\n",
    "plt.figure(figsize=(8,5))\n",
    "ax = sns.heatmap(\n",
    "    table1_kt.set_index('Metric'), \n",
    "    annot=True,\n",
    "    cmap=\"YlGnBu\",\n",
    "    annot_kws={\"fontsize\":16},\n",
    "    fmt='0.2f'\n",
    ")\n",
    "cbar = ax.collections[0].colorbar\n",
    "cbar.ax.tick_params(labelsize=16)\n",
    "plt.xticks(size=16)\n",
    "plt.yticks(size=16)\n",
    "plt.xlabel(\"Language\", size=16)\n",
    "plt.ylabel(\"  \", size=16)\n",
    "plt.title(r\"Kendall's $\\tau$ Correlation\", size=18)\n",
    "plt.savefig('table1_kendall.pdf', bbox_inches='tight', format='pdf')"
   ]
  },
  {
   "cell_type": "code",
   "execution_count": null,
   "id": "4e4f6ecf",
   "metadata": {},
   "outputs": [],
   "source": []
  }
 ],
 "metadata": {
  "kernelspec": {
   "display_name": "Python 3 (ipykernel)",
   "language": "python",
   "name": "python3"
  },
  "language_info": {
   "codemirror_mode": {
    "name": "ipython",
    "version": 3
   },
   "file_extension": ".py",
   "mimetype": "text/x-python",
   "name": "python",
   "nbconvert_exporter": "python",
   "pygments_lexer": "ipython3",
   "version": "3.8.11"
  },
  "toc": {
   "base_numbering": 1,
   "nav_menu": {},
   "number_sections": true,
   "sideBar": true,
   "skip_h1_title": false,
   "title_cell": "Table of Contents",
   "title_sidebar": "Contents",
   "toc_cell": false,
   "toc_position": {
    "height": "calc(100% - 180px)",
    "left": "10px",
    "top": "150px",
    "width": "428.8px"
   },
   "toc_section_display": true,
   "toc_window_display": false
  }
 },
 "nbformat": 4,
 "nbformat_minor": 5
}
